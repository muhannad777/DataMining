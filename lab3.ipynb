{
 "cells": [
  {
   "cell_type": "code",
   "execution_count": 54,
   "metadata": {},
   "outputs": [
    {
     "name": "stdout",
     "output_type": "stream",
     "text": [
      "Welcome\n",
      "my Favorit # is  7\n"
     ]
    }
   ],
   "source": [
    "def conform(fav):\n",
    "        fav =42\n",
    "        return fav\n",
    "\n",
    "if __name__ == \"__main__\":\n",
    "    print(\"Welcome\")\n",
    "    fav =7\n",
    "    conform(fav)\n",
    "    print(\"my Favorit # is \", fav)"
   ]
  },
  {
   "cell_type": "code",
   "execution_count": 40,
   "metadata": {},
   "outputs": [
    {
     "name": "stdout",
     "output_type": "stream",
     "text": [
      "outside the function: {'A': 28, 'B': 25, 'C': 30, 'D': 25}\n"
     ]
    }
   ],
   "source": [
    "student={'A':28,'B':25,'C':30,'D':25}\n",
    "def test(student):\n",
    "    new={'E':30,'F':28}\n",
    "    studrnt.update(new)\n",
    "    print(\"inside the function \",student)\n",
    "    return test(student)\n",
    "print(\"outside the function:\",student)\n"
   ]
  },
  {
   "cell_type": "code",
   "execution_count": 31,
   "metadata": {},
   "outputs": [
    {
     "name": "stdout",
     "output_type": "stream",
     "text": [
      "muhannad\n"
     ]
    }
   ],
   "source": [
    "class student:\n",
    "    \n",
    "    def __init__(self , name):\n",
    "        self.name=name\n",
    "        self.course_list=[]\n",
    "std=student(\"muhannad\")\n",
    "print(std.name)"
   ]
  },
  {
   "cell_type": "code",
   "execution_count": 33,
   "metadata": {},
   "outputs": [
    {
     "name": "stdout",
     "output_type": "stream",
     "text": [
      "['python']\n"
     ]
    }
   ],
   "source": [
    "class student:\n",
    "    \n",
    "    def __init__(self , name):\n",
    "        self.name=name\n",
    "        self.course_list=[]\n",
    "    def add(self, new_course):\n",
    "        self.course_list.append(new_course)\n",
    "        \n",
    "std=student(\"muhannad\")\n",
    "std.add(\"python\")\n",
    "print(std.course_list)"
   ]
  },
  {
   "cell_type": "code",
   "execution_count": 48,
   "metadata": {},
   "outputs": [
    {
     "name": "stdin",
     "output_type": "stream",
     "text": [
      "hello muha\n"
     ]
    },
    {
     "name": "stdout",
     "output_type": "stream",
     "text": [
      "['muha']\n"
     ]
    }
   ],
   "source": [
    "class student:\n",
    "    \n",
    "    def __init__(self , name):\n",
    "        self.name=name\n",
    "        self.course_list=[]\n",
    "    def add(self, new_course):\n",
    "        self.course_list.append(new_course)\n",
    "        \n",
    "std=student(\"muhannad\")\n",
    "txt = input(\"hello\")\n",
    "std.add(txt)\n",
    "print(std.course_list)"
   ]
  },
  {
   "cell_type": "code",
   "execution_count": 55,
   "metadata": {},
   "outputs": [
    {
     "data": {
      "text/plain": [
       "<bound method person.printname of <__main__.professor object at 0x7f1c50505dd0>>"
      ]
     },
     "execution_count": 55,
     "metadata": {},
     "output_type": "execute_result"
    }
   ],
   "source": [
    "class person:\n",
    "    \n",
    "    def __init__(self,fname,lname):\n",
    "        self.firstname=fname\n",
    "        self.lastname=lname\n",
    "        \n",
    "    def printname(self):\n",
    "        print(self.firstname,self.lastname)\n",
    "        \n",
    "class professor(person):\n",
    "    pass\n",
    "mhd = professor(\"mohammed \",\"alsarem\")\n",
    "mhd.printname"
   ]
  }
 ],
 "metadata": {
  "kernelspec": {
   "display_name": "Python 3",
   "language": "python",
   "name": "python3"
  },
  "language_info": {
   "codemirror_mode": {
    "name": "ipython",
    "version": 3
   },
   "file_extension": ".py",
   "mimetype": "text/x-python",
   "name": "python",
   "nbconvert_exporter": "python",
   "pygments_lexer": "ipython3",
   "version": "3.7.8"
  }
 },
 "nbformat": 4,
 "nbformat_minor": 4
}
